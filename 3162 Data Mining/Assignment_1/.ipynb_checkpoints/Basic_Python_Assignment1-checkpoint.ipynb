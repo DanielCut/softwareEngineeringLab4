{
 "cells": [
  {
   "cell_type": "markdown",
   "metadata": {},
   "source": [
    "# Basic Python Assignment (30 points total)\n",
    "For this assignment you will complete this notebook as specified. Please include your last name when naming the file you turn in ('YOURLASTNAME_assignment1.ipynb'). You will need to use the 'gettysburg_address.txt' file and the 'voting_data.csv' files in the 'assignment_1' folder on Canvas. This assignment includes tasks that can be addressed multiple ways. While you are free to use documentation you may not get code from other students or provide code to other students. Piazza will be a great place for questions, and as always feel free to contact the professor or the TAs. Partial credit is possible on each standard question. Partial credit is not available for the bonus.\n",
    "\n",
    "## Part 1 - Word Counts (10 points)\n",
    "In the part of the assignment you will get the word counts for each word in the Gettysburg Address. You will use a dictionary to keep track of words and how many times they appear in the text. We have included some code for this part of the assignment."
   ]
  },
  {
   "cell_type": "markdown",
   "metadata": {},
   "source": [
    "**Read in the text file (0 points)** - In the cell below, read the *gettysburg_address.txt* file (on Canvas) into Python."
   ]
  },
  {
   "cell_type": "code",
   "execution_count": 1,
   "metadata": {
    "pycharm": {
     "name": "#%%\n"
    }
   },
   "outputs": [
    {
     "data": {
      "text/plain": [
       "'Four score and seven years ago our fathers brought forth on this continent, a new nation, conceived in Liberty, and dedicated to the proposition that all men are created equal.\\nNow we are engaged in a great civil war, testing whether that nation, or any nation so conceived and so dedicated, can long endure. We are met on a great battle-field of that war. We have come to dedicate a portion of that field, as a final resting place for those who here gave their lives that that nation might live. It is altogether fitting and proper that we should do this.\\n\\nBut, in a larger sense, we can not dedicate - we can not consecrate - we can not hallow - this ground. The brave men, living and dead, who struggled here, have consecrated it, far above our poor power to add or detract. The world will little note, nor long remember what we say here, but it can never forget what they did here. It is for us the living, rather, to be dedicated here to the unfinished work which they who fought here have thus far so nobly advanced. It is rather for us to be here dedicated to the great task remaining before us - that from these honored dead we take increased devotion to that cause for which they gave the last full measure of devotion - that we here highly resolve that these dead shall not have died in vain - that this nation, under God, shall have a new birth of freedom - and that government of the people, by the people, for the people, shall not perish from the earth.'"
      ]
     },
     "execution_count": 1,
     "metadata": {},
     "output_type": "execute_result"
    }
   ],
   "source": [
    "# This cell is provided\n",
    "# This reads in the text file and stores it in a variable 'text'\n",
    "with open('gettysburg_address.txt') as f:\n",
    "    text = f.read()\n",
    "\n",
    "# Print out the text\n",
    "text"
   ]
  },
  {
   "cell_type": "markdown",
   "metadata": {},
   "source": [
    "**Split the text (0 points)** - Split the text into a list of individual words. This process is called tokenization and is a common data pre-processing step when working with any text data."
   ]
  },
  {
   "cell_type": "code",
   "execution_count": 2,
   "metadata": {
    "pycharm": {
     "name": "#%%\n"
    }
   },
   "outputs": [
    {
     "data": {
      "text/plain": [
       "['Four', 'score', 'and', 'seven', 'years']"
      ]
     },
     "execution_count": 2,
     "metadata": {},
     "output_type": "execute_result"
    }
   ],
   "source": [
    "# This cell is provided\n",
    "# The following splits the text into individual words\n",
    "text = text.split()\n",
    "\n",
    "# Print first 5 items\n",
    "text[:5]"
   ]
  },
  {
   "cell_type": "markdown",
   "metadata": {},
   "source": [
    "**Create a dictionary (1 point)** - Initialize an empty dictionary to hold the word counts."
   ]
  },
  {
   "cell_type": "code",
   "execution_count": null,
   "metadata": {
    "pycharm": {
     "name": "#%%\n"
    }
   },
   "outputs": [],
   "source": [
    "myDictionary = {}\n",
    "with open()"
   ]
  },
  {
   "cell_type": "markdown",
   "metadata": {},
   "source": [
    "**Populate your dictionary (3 points)** - Iterate over your list of words and update the word counts for each word in the text."
   ]
  },
  {
   "cell_type": "code",
   "execution_count": null,
   "metadata": {
    "pycharm": {
     "name": "#%%\n"
    }
   },
   "outputs": [],
   "source": []
  },
  {
   "cell_type": "markdown",
   "metadata": {},
   "source": [
    "**Sort your word count dictionary (4 points)** - Dictionaries are unordered collections in Python. You will need to find a way to sort the dictionary by its values. Save the sorted output to a new variable. **Hint: You can use Pandas!**"
   ]
  },
  {
   "cell_type": "code",
   "execution_count": null,
   "metadata": {
    "pycharm": {
     "name": "#%%\n"
    }
   },
   "outputs": [],
   "source": []
  },
  {
   "cell_type": "markdown",
   "metadata": {},
   "source": [
    "**Print out the top 10 most used words. (2 points)**"
   ]
  },
  {
   "cell_type": "code",
   "execution_count": null,
   "metadata": {
    "pycharm": {
     "name": "#%%\n"
    }
   },
   "outputs": [],
   "source": []
  },
  {
   "cell_type": "markdown",
   "metadata": {},
   "source": [
    "**Bonus (up to 2 points, no partial credit)** - Your script will consider 'The' and 'the' to be separate words. Likewise, 'war' and 'war.' (note the period) will be considered differently. Before adding your words to the dictionary, clean up the text to remove capitalization and punctuation."
   ]
  },
  {
   "cell_type": "code",
   "execution_count": null,
   "metadata": {},
   "outputs": [],
   "source": []
  },
  {
   "cell_type": "markdown",
   "metadata": {},
   "source": [
    "***\n",
    "## Part 2 - Congressional Voting Records\n",
    "For this section use the 'voting_data.csv' file and the Pandas package to answer the questions. You may use any built-in Pandas functions and any functions you write yourself."
   ]
  },
  {
   "cell_type": "markdown",
   "metadata": {},
   "source": [
    "<b>Import the dataset using Pandas (1 point)</b> - Use the cell below to import the *voting_data.csv* file (on Canvas) and load in the data. This dataset shows how a set of congress-people voted on various issues. "
   ]
  },
  {
   "cell_type": "code",
   "execution_count": null,
   "metadata": {
    "pycharm": {
     "name": "#%%\n"
    }
   },
   "outputs": [],
   "source": []
  },
  {
   "cell_type": "markdown",
   "metadata": {},
   "source": [
    "<b>Show the first 15 rows (1 points)</b> - Show the first 15 records and look at how the data is organized and how the votes are recorded."
   ]
  },
  {
   "cell_type": "code",
   "execution_count": null,
   "metadata": {
    "pycharm": {
     "name": "#%%\n"
    }
   },
   "outputs": [],
   "source": []
  },
  {
   "cell_type": "markdown",
   "metadata": {},
   "source": [
    "<b>Change a column name (2 points)</b> - Retitle the column labelled 'Class Name' with 'political_party'."
   ]
  },
  {
   "cell_type": "code",
   "execution_count": null,
   "metadata": {
    "pycharm": {
     "name": "#%%\n"
    }
   },
   "outputs": [],
   "source": []
  },
  {
   "cell_type": "markdown",
   "metadata": {},
   "source": [
    "<b>Replacing values (2 points)</b> - In most cases, it is easier to work with integers rather than other data types. Whenever possible, it is suggested that you convert characters and strings to integer values. Use the following cell to replace 'n' with 0 and 'y' with 1 in each row."
   ]
  },
  {
   "cell_type": "code",
   "execution_count": null,
   "metadata": {
    "pycharm": {
     "name": "#%%\n"
    }
   },
   "outputs": [],
   "source": []
  },
  {
   "cell_type": "markdown",
   "metadata": {},
   "source": [
    "<b>How many republicans and democrats in this congress? (3 points)</b> You may go about answering this question in a variety of ways, all are acceptable as long as you output the number of republicans and democrats."
   ]
  },
  {
   "cell_type": "code",
   "execution_count": null,
   "metadata": {
    "pycharm": {
     "name": "#%%\n"
    }
   },
   "outputs": [],
   "source": []
  },
  {
   "cell_type": "markdown",
   "metadata": {},
   "source": [
    "<b>Which votes pass? (3 points)</b> - Determine which issues would pass (more yes's than no's) and which issues would not pass. Output your results."
   ]
  },
  {
   "cell_type": "code",
   "execution_count": null,
   "metadata": {
    "pycharm": {
     "name": "#%%\n"
    }
   },
   "outputs": [],
   "source": []
  },
  {
   "cell_type": "markdown",
   "metadata": {},
   "source": [
    "<b>Create a copy of the dataset (1 point)</b> - Create a copy of the dataset and label it 'dataframe2'. Make sure that modifying this DataFrame will not affect the original."
   ]
  },
  {
   "cell_type": "code",
   "execution_count": null,
   "metadata": {
    "pycharm": {
     "name": "#%%\n"
    }
   },
   "outputs": [],
   "source": []
  },
  {
   "cell_type": "markdown",
   "metadata": {},
   "source": [
    "<b>Remove missing values (3 points)</b> - You will notice that some congress-people did not vote on every issue. If a congress-person did not participate in one or more votes, remove their **entire voting record** from 'dataframe2'. **Hint: You will need to import Numpy to do this.**"
   ]
  },
  {
   "cell_type": "code",
   "execution_count": null,
   "metadata": {
    "pycharm": {
     "name": "#%%\n"
    }
   },
   "outputs": [],
   "source": []
  },
  {
   "cell_type": "markdown",
   "metadata": {},
   "source": [
    "<b>Re-compute which votes pass in 'dataframe2' (2 points)</b> - Determine which votes would pass using 'dataframe2'. "
   ]
  },
  {
   "cell_type": "code",
   "execution_count": null,
   "metadata": {
    "pycharm": {
     "name": "#%%\n"
    }
   },
   "outputs": [],
   "source": []
  },
  {
   "cell_type": "markdown",
   "metadata": {},
   "source": [
    "<b>Do you spot any differences? (2 points)</b> - Use the following cell to record your observations. If you see \"Type Markdown and LaTeX:  𝛼2\" below, double-click to edit the Markdown cell. Once your answer is entered run the cell."
   ]
  },
  {
   "cell_type": "markdown",
   "metadata": {},
   "source": []
  }
 ],
 "metadata": {
  "kernelspec": {
   "display_name": "Python 3",
   "language": "python",
   "name": "python3"
  },
  "language_info": {
   "codemirror_mode": {
    "name": "ipython",
    "version": 3
   },
   "file_extension": ".py",
   "mimetype": "text/x-python",
   "name": "python",
   "nbconvert_exporter": "python",
   "pygments_lexer": "ipython3",
   "version": "3.8.3"
  },
  "pycharm": {
   "stem_cell": {
    "cell_type": "raw",
    "metadata": {
     "collapsed": false
    },
    "source": []
   }
  }
 },
 "nbformat": 4,
 "nbformat_minor": 2
}
